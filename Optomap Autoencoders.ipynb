{
 "cells": [
  {
   "cell_type": "markdown",
   "metadata": {},
   "source": [
    "# Building Autoencoder for Optomaps"
   ]
  },
  {
   "cell_type": "markdown",
   "metadata": {},
   "source": [
    "Import Libraries"
   ]
  },
  {
   "cell_type": "code",
   "execution_count": 5,
   "metadata": {},
   "outputs": [],
   "source": [
    "import os\n",
    "import pandas\n",
    "\n",
    "import torch\n",
    "import torchvision\n",
    "from torch import nn\n",
    "from torch.autograd import Variable\n",
    "from torch.utils.data import DataLoader\n",
    "from torchvision import transforms\n",
    "from torchvision.utils import save_image"
   ]
  },
  {
   "cell_type": "code",
   "execution_count": 6,
   "metadata": {},
   "outputs": [
    {
     "name": "stdout",
     "output_type": "stream",
     "text": [
      "/Users/michaelkudlaty/Documents/GitHub/OptomapClassification\r\n"
     ]
    }
   ],
   "source": [
    "!pwd"
   ]
  },
  {
   "cell_type": "markdown",
   "metadata": {},
   "source": [
    "# Load Image Information"
   ]
  },
  {
   "cell_type": "code",
   "execution_count": 7,
   "metadata": {},
   "outputs": [
    {
     "name": "stdout",
     "output_type": "stream",
     "text": [
      "Number of Labeled Image Files: 44\n",
      "Number of Unlabeled Image Files: 4120\n"
     ]
    }
   ],
   "source": [
    "dataDirectory = \"Data\"\n",
    "\n",
    "labeledDirectory = os.path.join(dataDirectory, \"Labeled\")\n",
    "unlabeledDirectory = os.path.join(dataDirectory, \"Unlabeled\")\n",
    "\n",
    "labeledFiles = os.listdir(labeledDirectory)\n",
    "unlabeledFiles = os.listdir(unlabeledDirectory)\n",
    "\n",
    "print(\"Number of Labeled Image Files: {0}\".format(len(labeledFiles)))\n",
    "print(\"Number of Unlabeled Image Files: {0}\".format(len(unlabeledFiles)))"
   ]
  },
  {
   "cell_type": "code",
   "execution_count": 8,
   "metadata": {},
   "outputs": [],
   "source": [
    "#Load List into Pandas series\n",
    "labeledDF = pandas.DataFrame(labeledFiles, columns=[\"FilePath\"])\n",
    "unlabeledDF = pandas.DataFrame(unlabeledFiles, columns=[\"FilePath\"])"
   ]
  },
  {
   "cell_type": "code",
   "execution_count": 9,
   "metadata": {},
   "outputs": [],
   "source": [
    "def AppendDirectory(directoryPath, series):\n",
    "    for i in range(len(series)):\n",
    "        series.iloc[i] = os.path.join(directoryPath, series.iloc[i])\n",
    "        \n",
    "    return series"
   ]
  },
  {
   "cell_type": "code",
   "execution_count": 11,
   "metadata": {},
   "outputs": [],
   "source": [
    "labeledDF[\"FilePath\"] = AppendDirectory(labeledDirectory, labeledDF[\"FilePath\"])\n",
    "unlabeledDF[\"FilePath\"] = AppendDirectory(unlabeledDirectory, unlabeledDF[\"FilePath\"])"
   ]
  },
  {
   "cell_type": "code",
   "execution_count": 13,
   "metadata": {},
   "outputs": [
    {
     "data": {
      "text/html": [
       "<div>\n",
       "<style scoped>\n",
       "    .dataframe tbody tr th:only-of-type {\n",
       "        vertical-align: middle;\n",
       "    }\n",
       "\n",
       "    .dataframe tbody tr th {\n",
       "        vertical-align: top;\n",
       "    }\n",
       "\n",
       "    .dataframe thead th {\n",
       "        text-align: right;\n",
       "    }\n",
       "</style>\n",
       "<table border=\"1\" class=\"dataframe\">\n",
       "  <thead>\n",
       "    <tr style=\"text-align: right;\">\n",
       "      <th></th>\n",
       "      <th>FilePath</th>\n",
       "    </tr>\n",
       "  </thead>\n",
       "  <tbody>\n",
       "    <tr>\n",
       "      <th>0</th>\n",
       "      <td>Data/Unlabeled/Data/Unlabeled/63.jpg</td>\n",
       "    </tr>\n",
       "    <tr>\n",
       "      <th>1</th>\n",
       "      <td>Data/Unlabeled/Data/Unlabeled/6400.jpg</td>\n",
       "    </tr>\n",
       "    <tr>\n",
       "      <th>2</th>\n",
       "      <td>Data/Unlabeled/Data/Unlabeled/823.jpg</td>\n",
       "    </tr>\n",
       "    <tr>\n",
       "      <th>3</th>\n",
       "      <td>Data/Unlabeled/Data/Unlabeled/4217.jpg</td>\n",
       "    </tr>\n",
       "    <tr>\n",
       "      <th>4</th>\n",
       "      <td>Data/Unlabeled/Data/Unlabeled/3578.jpg</td>\n",
       "    </tr>\n",
       "  </tbody>\n",
       "</table>\n",
       "</div>"
      ],
      "text/plain": [
       "                                 FilePath\n",
       "0    Data/Unlabeled/Data/Unlabeled/63.jpg\n",
       "1  Data/Unlabeled/Data/Unlabeled/6400.jpg\n",
       "2   Data/Unlabeled/Data/Unlabeled/823.jpg\n",
       "3  Data/Unlabeled/Data/Unlabeled/4217.jpg\n",
       "4  Data/Unlabeled/Data/Unlabeled/3578.jpg"
      ]
     },
     "execution_count": 13,
     "metadata": {},
     "output_type": "execute_result"
    }
   ],
   "source": [
    "unlabeledDF.head()"
   ]
  },
  {
   "cell_type": "markdown",
   "metadata": {},
   "source": [
    "# Resize Images & Data Augmentation"
   ]
  },
  {
   "cell_type": "code",
   "execution_count": 15,
   "metadata": {},
   "outputs": [],
   "source": [
    "transform = transforms.Compose([transforms.ToPILImage(), \n",
    "                                transforms.Resize(256,256), \n",
    "                                transforms.ToTensor(), \n",
    "                                transforms.Normalize(mean=(0.5,), std=(0.5,))])"
   ]
  },
  {
   "cell_type": "code",
   "execution_count": null,
   "metadata": {},
   "outputs": [],
   "source": []
  },
  {
   "cell_type": "markdown",
   "metadata": {},
   "source": [
    "# Autoencoder Class"
   ]
  },
  {
   "cell_type": "code",
   "execution_count": null,
   "metadata": {},
   "outputs": [],
   "source": [
    "class Autoencoder(nn.Module):\n",
    "    def __init__(self):\n",
    "        super(autoencoder, self).__init__()\n",
    "        self.encoder = nn.Sequential(\n",
    "            nn.Linear(28 * 28, 128),\n",
    "            nn.ReLU(True),\n",
    "            nn.Linear(128, 64),\n",
    "            nn.ReLU(True), nn.Linear(64, 12), nn.ReLU(True), nn.Linear(12, 3))\n",
    "        self.decoder = nn.Sequential(\n",
    "            nn.Linear(3, 12),\n",
    "            nn.ReLU(True),\n",
    "            nn.Linear(12, 64),\n",
    "            nn.ReLU(True),\n",
    "            nn.Linear(64, 128),\n",
    "            nn.ReLU(True), nn.Linear(128, 28 * 28), nn.Tanh())\n",
    "\n",
    "    def forward(self, x):\n",
    "        x = self.encoder(x)\n",
    "        x = self.decoder(x)\n",
    "        return x\n"
   ]
  },
  {
   "cell_type": "markdown",
   "metadata": {},
   "source": [
    "# Train Model"
   ]
  },
  {
   "cell_type": "code",
   "execution_count": null,
   "metadata": {},
   "outputs": [],
   "source": [
    "# model = autoencoder().cuda()\n",
    "# criterion = nn.MSELoss()\n",
    "# optimizer = torch.optim.Adam(\n",
    "#     model.parameters(), lr=learning_rate, weight_decay=1e-5)\n",
    "\n",
    "# for epoch in range(num_epochs):\n",
    "#     for data in dataloader:\n",
    "#         img, _ = data\n",
    "#         img = img.view(img.size(0), -1)\n",
    "#         img = Variable(img).cuda()\n",
    "#         # ===================forward=====================\n",
    "#         output = model(img)\n",
    "#         loss = criterion(output, img)\n",
    "#         # ===================backward====================\n",
    "#         optimizer.zero_grad()\n",
    "#         loss.backward()\n",
    "#         optimizer.step()\n",
    "#     # ===================log========================\n",
    "#     print('epoch [{}/{}], loss:{:.4f}'\n",
    "#           .format(epoch + 1, num_epochs, loss.data[0]))\n",
    "#     if epoch % 10 == 0:\n",
    "#         pic = to_img(output.cpu().data)\n",
    "#         save_image(pic, './mlp_img/image_{}.png'.format(epoch))\n",
    "\n",
    "# torch.save(model.state_dict(), './sim_autoencoder.pth')"
   ]
  }
 ],
 "metadata": {
  "kernelspec": {
   "display_name": "Python 3",
   "language": "python",
   "name": "python3"
  },
  "language_info": {
   "codemirror_mode": {
    "name": "ipython",
    "version": 3
   },
   "file_extension": ".py",
   "mimetype": "text/x-python",
   "name": "python",
   "nbconvert_exporter": "python",
   "pygments_lexer": "ipython3",
   "version": "3.6.6"
  }
 },
 "nbformat": 4,
 "nbformat_minor": 2
}
