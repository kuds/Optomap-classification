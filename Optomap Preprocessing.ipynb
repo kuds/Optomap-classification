{
 "cells": [
  {
   "cell_type": "code",
   "execution_count": 1,
   "metadata": {},
   "outputs": [],
   "source": [
    "%matplotlib inline"
   ]
  },
  {
   "cell_type": "code",
   "execution_count": 2,
   "metadata": {},
   "outputs": [],
   "source": [
    "import pandas\n",
    "import numpy\n",
    "import matplotlib\n",
    "import os\n",
    "import matplotlib.pyplot as plt\n",
    "from PIL import Image"
   ]
  },
  {
   "cell_type": "code",
   "execution_count": 3,
   "metadata": {},
   "outputs": [
    {
     "name": "stdout",
     "output_type": "stream",
     "text": [
      "/Users/michaelkudlaty/Documents/GitHub/Optomap-classification\r\n"
     ]
    }
   ],
   "source": [
    "!pwd"
   ]
  },
  {
   "cell_type": "code",
   "execution_count": 4,
   "metadata": {},
   "outputs": [],
   "source": [
    "dataDirectory = \"Data\""
   ]
  },
  {
   "cell_type": "code",
   "execution_count": 5,
   "metadata": {},
   "outputs": [
    {
     "data": {
      "text/plain": [
       "['.DS_Store', 'Labeled', 'Unlabeled']"
      ]
     },
     "execution_count": 5,
     "metadata": {},
     "output_type": "execute_result"
    }
   ],
   "source": [
    "os.listdir(dataDirectory)"
   ]
  },
  {
   "cell_type": "code",
   "execution_count": 6,
   "metadata": {},
   "outputs": [],
   "source": [
    "labeledDirectory = os.path.join(dataDirectory, \"Labeled\")\n",
    "unlabeledDirectory = os.path.join(dataDirectory, \"Unlabeled\")"
   ]
  },
  {
   "cell_type": "code",
   "execution_count": 7,
   "metadata": {},
   "outputs": [
    {
     "name": "stdout",
     "output_type": "stream",
     "text": [
      "Number of Labeled Image Files: 44\n",
      "Number of Unlabeled Image Files: 7840\n"
     ]
    }
   ],
   "source": [
    "labeledFiles = os.listdir(labeledDirectory)\n",
    "unlabeledFiles = os.listdir(unlabeledDirectory)\n",
    "\n",
    "print(\"Number of Labeled Image Files: {0}\".format(len(labeledFiles)))\n",
    "print(\"Number of Unlabeled Image Files: {0}\".format(len(unlabeledFiles)))"
   ]
  },
  {
   "cell_type": "code",
   "execution_count": 8,
   "metadata": {},
   "outputs": [],
   "source": [
    "def AppendDirectory(directoryPath, series):\n",
    "    for i in range(len(series)):\n",
    "        series.iloc[i] = os.path.join(directoryPath, series.iloc[i])\n",
    "        \n",
    "    return series"
   ]
  },
  {
   "cell_type": "code",
   "execution_count": 9,
   "metadata": {},
   "outputs": [],
   "source": [
    "def GetFileName(filePath):\n",
    "    fileNameWithExtension = os.path.basename(filePath)\n",
    "    fileName = os.path.splitext(fileNameWithExtension)[0]\n",
    "    return fileName"
   ]
  },
  {
   "cell_type": "code",
   "execution_count": 10,
   "metadata": {},
   "outputs": [],
   "source": [
    "def GetImageInfo(dataFrame, filePath=\"FilePath\", rename=False):\n",
    "    for i in range(len(dataFrame)):\n",
    "        \n",
    "        #Get Image File Path\n",
    "        imagePath = dataFrame.loc[i, filePath]\n",
    "\n",
    "        try:\n",
    "            #Open Image\n",
    "            im = Image.open(imagePath)\n",
    "            im.load()\n",
    "            \n",
    "            dataFrame.loc[i, \"Width\"], dataFrame.loc[i, \"Height\"] = im.size\n",
    "    \n",
    "            if(rename):\n",
    "                #Rename File\n",
    "                directory = os.path.dirname(imagePath)\n",
    "                fileExtension = os.path.splitext(imagePath)[-1] \n",
    "                newFileName = (\"{0}{1}\".format(str(i), fileExtension))\n",
    "                newFilePath = os.path.join(directory, newFileName)\n",
    "                os.rename(imagePath, newFilePath)\n",
    "\n",
    "                #Update Dataframe with New File Path\n",
    "                dataFrame.loc[i, \"FilePath\"] = newFilePath\n",
    "        except:\n",
    "            os.remove(imagePath)\n",
    "            dataFrame.drop(dataFrame.index[i])\n",
    "            \n",
    "    dataFrame.reset_index(inplace=True, drop=True)"
   ]
  },
  {
   "cell_type": "code",
   "execution_count": 11,
   "metadata": {},
   "outputs": [],
   "source": [
    "#Load List into Pandas series\n",
    "labeledDF = pandas.DataFrame(labeledFiles, columns=[\"FilePath\"])\n",
    "unlabeledDF = pandas.DataFrame(unlabeledFiles, columns=[\"FilePath\"])"
   ]
  },
  {
   "cell_type": "code",
   "execution_count": 12,
   "metadata": {},
   "outputs": [],
   "source": [
    "labeledDF[\"FilePath\"] = AppendDirectory(labeledDirectory, labeledDF[\"FilePath\"])\n",
    "unlabeledDF[\"FilePath\"] = AppendDirectory(unlabeledDirectory, unlabeledDF[\"FilePath\"])"
   ]
  },
  {
   "cell_type": "code",
   "execution_count": 13,
   "metadata": {},
   "outputs": [],
   "source": [
    "GetImageInfo(labeledDF)\n",
    "GetImageInfo(unlabeledDF, rename=True)"
   ]
  },
  {
   "cell_type": "code",
   "execution_count": 14,
   "metadata": {},
   "outputs": [
    {
     "data": {
      "text/html": [
       "<div>\n",
       "<style scoped>\n",
       "    .dataframe tbody tr th:only-of-type {\n",
       "        vertical-align: middle;\n",
       "    }\n",
       "\n",
       "    .dataframe tbody tr th {\n",
       "        vertical-align: top;\n",
       "    }\n",
       "\n",
       "    .dataframe thead th {\n",
       "        text-align: right;\n",
       "    }\n",
       "</style>\n",
       "<table border=\"1\" class=\"dataframe\">\n",
       "  <thead>\n",
       "    <tr style=\"text-align: right;\">\n",
       "      <th></th>\n",
       "      <th>FilePath</th>\n",
       "      <th>Width</th>\n",
       "      <th>Height</th>\n",
       "    </tr>\n",
       "  </thead>\n",
       "  <tbody>\n",
       "    <tr>\n",
       "      <th>0</th>\n",
       "      <td>Data/Unlabeled/0.jpg</td>\n",
       "      <td>1984.0</td>\n",
       "      <td>1984.0</td>\n",
       "    </tr>\n",
       "    <tr>\n",
       "      <th>1</th>\n",
       "      <td>Data/Unlabeled/1.jpg</td>\n",
       "      <td>1984.0</td>\n",
       "      <td>1984.0</td>\n",
       "    </tr>\n",
       "    <tr>\n",
       "      <th>2</th>\n",
       "      <td>Data/Unlabeled/2.jpg</td>\n",
       "      <td>2600.0</td>\n",
       "      <td>2048.0</td>\n",
       "    </tr>\n",
       "    <tr>\n",
       "      <th>3</th>\n",
       "      <td>Data/Unlabeled/3.jpg</td>\n",
       "      <td>2600.0</td>\n",
       "      <td>2048.0</td>\n",
       "    </tr>\n",
       "    <tr>\n",
       "      <th>4</th>\n",
       "      <td>Data/Unlabeled/4.jpg</td>\n",
       "      <td>1984.0</td>\n",
       "      <td>1984.0</td>\n",
       "    </tr>\n",
       "  </tbody>\n",
       "</table>\n",
       "</div>"
      ],
      "text/plain": [
       "               FilePath   Width  Height\n",
       "0  Data/Unlabeled/0.jpg  1984.0  1984.0\n",
       "1  Data/Unlabeled/1.jpg  1984.0  1984.0\n",
       "2  Data/Unlabeled/2.jpg  2600.0  2048.0\n",
       "3  Data/Unlabeled/3.jpg  2600.0  2048.0\n",
       "4  Data/Unlabeled/4.jpg  1984.0  1984.0"
      ]
     },
     "execution_count": 14,
     "metadata": {},
     "output_type": "execute_result"
    }
   ],
   "source": [
    "unlabeledDF.head()"
   ]
  },
  {
   "cell_type": "code",
   "execution_count": 15,
   "metadata": {},
   "outputs": [
    {
     "data": {
      "text/html": [
       "<div>\n",
       "<style scoped>\n",
       "    .dataframe tbody tr th:only-of-type {\n",
       "        vertical-align: middle;\n",
       "    }\n",
       "\n",
       "    .dataframe tbody tr th {\n",
       "        vertical-align: top;\n",
       "    }\n",
       "\n",
       "    .dataframe thead th {\n",
       "        text-align: right;\n",
       "    }\n",
       "</style>\n",
       "<table border=\"1\" class=\"dataframe\">\n",
       "  <thead>\n",
       "    <tr style=\"text-align: right;\">\n",
       "      <th></th>\n",
       "      <th>FilePath</th>\n",
       "      <th>Width</th>\n",
       "      <th>Height</th>\n",
       "      <th>Label</th>\n",
       "    </tr>\n",
       "  </thead>\n",
       "  <tbody>\n",
       "    <tr>\n",
       "      <th>0</th>\n",
       "      <td>Data/Labeled/Glaucoma 2.jpg</td>\n",
       "      <td>2600.0</td>\n",
       "      <td>2048.0</td>\n",
       "      <td>Glaucoma 2</td>\n",
       "    </tr>\n",
       "    <tr>\n",
       "      <th>1</th>\n",
       "      <td>Data/Labeled/Retinal Tear.tif</td>\n",
       "      <td>1984.0</td>\n",
       "      <td>1984.0</td>\n",
       "      <td>Retinal Tear</td>\n",
       "    </tr>\n",
       "    <tr>\n",
       "      <th>2</th>\n",
       "      <td>Data/Labeled/Birdshot chorioretinitis.jpg</td>\n",
       "      <td>1984.0</td>\n",
       "      <td>1984.0</td>\n",
       "      <td>Birdshot chorioretinitis</td>\n",
       "    </tr>\n",
       "    <tr>\n",
       "      <th>3</th>\n",
       "      <td>Data/Labeled/AMPPE OD.jpg</td>\n",
       "      <td>1984.0</td>\n",
       "      <td>1984.0</td>\n",
       "      <td>AMPPE OD</td>\n",
       "    </tr>\n",
       "    <tr>\n",
       "      <th>4</th>\n",
       "      <td>Data/Labeled/Wyburn Mason.jpg</td>\n",
       "      <td>1984.0</td>\n",
       "      <td>1984.0</td>\n",
       "      <td>Wyburn Mason</td>\n",
       "    </tr>\n",
       "  </tbody>\n",
       "</table>\n",
       "</div>"
      ],
      "text/plain": [
       "                                    FilePath   Width  Height  \\\n",
       "0                Data/Labeled/Glaucoma 2.jpg  2600.0  2048.0   \n",
       "1              Data/Labeled/Retinal Tear.tif  1984.0  1984.0   \n",
       "2  Data/Labeled/Birdshot chorioretinitis.jpg  1984.0  1984.0   \n",
       "3                  Data/Labeled/AMPPE OD.jpg  1984.0  1984.0   \n",
       "4              Data/Labeled/Wyburn Mason.jpg  1984.0  1984.0   \n",
       "\n",
       "                      Label  \n",
       "0                Glaucoma 2  \n",
       "1              Retinal Tear  \n",
       "2  Birdshot chorioretinitis  \n",
       "3                  AMPPE OD  \n",
       "4              Wyburn Mason  "
      ]
     },
     "execution_count": 15,
     "metadata": {},
     "output_type": "execute_result"
    }
   ],
   "source": [
    "labeledDF[\"Label\"] = labeledDF[\"FilePath\"].apply(lambda x: GetFileName(x))\n",
    "labeledDF.head()"
   ]
  }
 ],
 "metadata": {
  "kernelspec": {
   "display_name": "Python 3",
   "language": "python",
   "name": "python3"
  },
  "language_info": {
   "codemirror_mode": {
    "name": "ipython",
    "version": 3
   },
   "file_extension": ".py",
   "mimetype": "text/x-python",
   "name": "python",
   "nbconvert_exporter": "python",
   "pygments_lexer": "ipython3",
   "version": "3.6.6"
  }
 },
 "nbformat": 4,
 "nbformat_minor": 2
}
